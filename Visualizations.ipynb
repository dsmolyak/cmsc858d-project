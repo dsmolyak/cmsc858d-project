{
 "cells": [
  {
   "cell_type": "code",
   "execution_count": 1,
   "id": "f715877d",
   "metadata": {},
   "outputs": [
    {
     "name": "stdout",
     "output_type": "stream",
     "text": [
      "Populating the interactive namespace from numpy and matplotlib\n"
     ]
    }
   ],
   "source": [
    "%pylab inline\n",
    "import pandas as pd\n",
    "import seaborn as sns"
   ]
  },
  {
   "cell_type": "code",
   "execution_count": 36,
   "id": "b9ed370c",
   "metadata": {},
   "outputs": [
    {
     "data": {
      "text/html": [
       "<div>\n",
       "<style scoped>\n",
       "    .dataframe tbody tr th:only-of-type {\n",
       "        vertical-align: middle;\n",
       "    }\n",
       "\n",
       "    .dataframe tbody tr th {\n",
       "        vertical-align: top;\n",
       "    }\n",
       "\n",
       "    .dataframe thead th {\n",
       "        text-align: right;\n",
       "    }\n",
       "</style>\n",
       "<table border=\"1\" class=\"dataframe\">\n",
       "  <thead>\n",
       "    <tr style=\"text-align: right;\">\n",
       "      <th></th>\n",
       "      <th>dataset</th>\n",
       "      <th>cluster</th>\n",
       "      <th>dist_metric</th>\n",
       "      <th>inside_avg</th>\n",
       "      <th>outside_avg</th>\n",
       "      <th>out/in ratio</th>\n",
       "      <th>cluster_size</th>\n",
       "    </tr>\n",
       "  </thead>\n",
       "  <tbody>\n",
       "    <tr>\n",
       "      <th>0</th>\n",
       "      <td>tasic</td>\n",
       "      <td>0</td>\n",
       "      <td>0.2</td>\n",
       "      <td>7.274509e+21</td>\n",
       "      <td>8.450633e+21</td>\n",
       "      <td>1.161678</td>\n",
       "      <td>68</td>\n",
       "    </tr>\n",
       "    <tr>\n",
       "      <th>1</th>\n",
       "      <td>tasic</td>\n",
       "      <td>1</td>\n",
       "      <td>0.2</td>\n",
       "      <td>8.761656e+21</td>\n",
       "      <td>9.758453e+21</td>\n",
       "      <td>1.113768</td>\n",
       "      <td>76</td>\n",
       "    </tr>\n",
       "    <tr>\n",
       "      <th>2</th>\n",
       "      <td>tasic</td>\n",
       "      <td>2</td>\n",
       "      <td>0.2</td>\n",
       "      <td>9.294900e+21</td>\n",
       "      <td>1.134093e+22</td>\n",
       "      <td>1.220123</td>\n",
       "      <td>115</td>\n",
       "    </tr>\n",
       "    <tr>\n",
       "      <th>3</th>\n",
       "      <td>tasic</td>\n",
       "      <td>3</td>\n",
       "      <td>0.2</td>\n",
       "      <td>7.743703e+21</td>\n",
       "      <td>1.051101e+22</td>\n",
       "      <td>1.357363</td>\n",
       "      <td>287</td>\n",
       "    </tr>\n",
       "    <tr>\n",
       "      <th>4</th>\n",
       "      <td>tasic</td>\n",
       "      <td>4</td>\n",
       "      <td>0.2</td>\n",
       "      <td>4.447588e+21</td>\n",
       "      <td>7.348362e+21</td>\n",
       "      <td>1.652213</td>\n",
       "      <td>534</td>\n",
       "    </tr>\n",
       "  </tbody>\n",
       "</table>\n",
       "</div>"
      ],
      "text/plain": [
       "  dataset  cluster  dist_metric    inside_avg   outside_avg  out/in ratio  \\\n",
       "0   tasic        0          0.2  7.274509e+21  8.450633e+21      1.161678   \n",
       "1   tasic        1          0.2  8.761656e+21  9.758453e+21      1.113768   \n",
       "2   tasic        2          0.2  9.294900e+21  1.134093e+22      1.220123   \n",
       "3   tasic        3          0.2  7.743703e+21  1.051101e+22      1.357363   \n",
       "4   tasic        4          0.2  4.447588e+21  7.348362e+21      1.652213   \n",
       "\n",
       "   cluster_size  \n",
       "0            68  \n",
       "1            76  \n",
       "2           115  \n",
       "3           287  \n",
       "4           534  "
      ]
     },
     "execution_count": 36,
     "metadata": {},
     "output_type": "execute_result"
    }
   ],
   "source": [
    "cluster_dists_df = pd.read_csv('/Users/dsmolyak/UMD/CMSC858D/project/tasic_dist_metric_cluster_gene.csv', index_col=0)\n",
    "cluster_dists_df.head()"
   ]
  },
  {
   "cell_type": "code",
   "execution_count": 29,
   "id": "9f2b9001",
   "metadata": {},
   "outputs": [
    {
     "data": {
      "image/png": "[encoded data removed]",
      "text/plain": [
       "<Figure size 432x288 with 1 Axes>"
      ]
     },
     "metadata": {
      "needs_background": "light"
     },
     "output_type": "display_data"
    }
   ],
   "source": [
    "sns.barplot(data=cluster_dists_df, x='dist_metric', y='out/in ratio')\n",
    "plt.xlabel('Distance Metric')\n",
    "plt.ylabel('Out/In Distance Ratio')\n",
    "plt.title('In Full High Dimension (45,768)')\n",
    "plt.savefig('/Users/dsmolyak/UMD/CMSC858D/project/tasic_bar_gene.png',dpi=300)"
   ]
  },
  {
   "cell_type": "code",
   "execution_count": 35,
   "id": "e981c6db",
   "metadata": {},
   "outputs": [
    {
     "data": {
      "text/html": [
       "<div>\n",
       "<style scoped>\n",
       "    .dataframe tbody tr th:only-of-type {\n",
       "        vertical-align: middle;\n",
       "    }\n",
       "\n",
       "    .dataframe tbody tr th {\n",
       "        vertical-align: top;\n",
       "    }\n",
       "\n",
       "    .dataframe thead th {\n",
       "        text-align: right;\n",
       "    }\n",
       "</style>\n",
       "<table border=\"1\" class=\"dataframe\">\n",
       "  <thead>\n",
       "    <tr style=\"text-align: right;\">\n",
       "      <th></th>\n",
       "      <th>dataset</th>\n",
       "      <th>cluster</th>\n",
       "      <th>dist_metric</th>\n",
       "      <th>inside_avg</th>\n",
       "      <th>outside_avg</th>\n",
       "      <th>out/in ratio</th>\n",
       "      <th>cluster_size</th>\n",
       "    </tr>\n",
       "  </thead>\n",
       "  <tbody>\n",
       "    <tr>\n",
       "      <th>0</th>\n",
       "      <td>tasic</td>\n",
       "      <td>0</td>\n",
       "      <td>0.2</td>\n",
       "      <td>23.615116</td>\n",
       "      <td>924.721837</td>\n",
       "      <td>39.158048</td>\n",
       "      <td>68</td>\n",
       "    </tr>\n",
       "    <tr>\n",
       "      <th>1</th>\n",
       "      <td>tasic</td>\n",
       "      <td>1</td>\n",
       "      <td>0.2</td>\n",
       "      <td>32.064795</td>\n",
       "      <td>578.768325</td>\n",
       "      <td>18.049962</td>\n",
       "      <td>76</td>\n",
       "    </tr>\n",
       "    <tr>\n",
       "      <th>2</th>\n",
       "      <td>tasic</td>\n",
       "      <td>2</td>\n",
       "      <td>0.2</td>\n",
       "      <td>45.459533</td>\n",
       "      <td>937.853481</td>\n",
       "      <td>20.630513</td>\n",
       "      <td>115</td>\n",
       "    </tr>\n",
       "    <tr>\n",
       "      <th>3</th>\n",
       "      <td>tasic</td>\n",
       "      <td>3</td>\n",
       "      <td>0.2</td>\n",
       "      <td>76.941390</td>\n",
       "      <td>678.529469</td>\n",
       "      <td>8.818784</td>\n",
       "      <td>287</td>\n",
       "    </tr>\n",
       "    <tr>\n",
       "      <th>4</th>\n",
       "      <td>tasic</td>\n",
       "      <td>4</td>\n",
       "      <td>0.2</td>\n",
       "      <td>53.116431</td>\n",
       "      <td>854.258021</td>\n",
       "      <td>16.082745</td>\n",
       "      <td>534</td>\n",
       "    </tr>\n",
       "  </tbody>\n",
       "</table>\n",
       "</div>"
      ],
      "text/plain": [
       "  dataset  cluster  dist_metric  inside_avg  outside_avg  out/in ratio  \\\n",
       "0   tasic        0          0.2   23.615116   924.721837     39.158048   \n",
       "1   tasic        1          0.2   32.064795   578.768325     18.049962   \n",
       "2   tasic        2          0.2   45.459533   937.853481     20.630513   \n",
       "3   tasic        3          0.2   76.941390   678.529469      8.818784   \n",
       "4   tasic        4          0.2   53.116431   854.258021     16.082745   \n",
       "\n",
       "   cluster_size  \n",
       "0            68  \n",
       "1            76  \n",
       "2           115  \n",
       "3           287  \n",
       "4           534  "
      ]
     },
     "execution_count": 35,
     "metadata": {},
     "output_type": "execute_result"
    }
   ],
   "source": [
    "cluster_dists_tsne_df = pd.read_csv('/Users/dsmolyak/UMD/CMSC858D/project/dist_metric_cluster_tsne.csv', index_col=0)\n",
    "cluster_dists_tsne_df.head()"
   ]
  },
  {
   "cell_type": "code",
   "execution_count": 32,
   "id": "8a2561e1",
   "metadata": {},
   "outputs": [
    {
     "data": {
      "image/png": "[encoded data removed]",
      "text/plain": [
       "<Figure size 432x288 with 1 Axes>"
      ]
     },
     "metadata": {
      "needs_background": "light"
     },
     "output_type": "display_data"
    }
   ],
   "source": [
    "sns.barplot(data=cluster_dists_tsne_df, x='dist_metric', y='out/in ratio')\n",
    "plt.xlabel('Distance Metric')\n",
    "plt.ylabel('Out/In Distance Ratio')\n",
    "plt.title('In Low Dimension (post t-SNE, 2-dim)')\n",
    "plt.savefig('/Users/dsmolyak/UMD/CMSC858D/project/tasic_bar_tsne.png',dpi=300)"
   ]
  },
  {
   "cell_type": "code",
   "execution_count": 33,
   "id": "d40c4d71",
   "metadata": {},
   "outputs": [
    {
     "data": {
      "text/html": [
       "<div>\n",
       "<style scoped>\n",
       "    .dataframe tbody tr th:only-of-type {\n",
       "        vertical-align: middle;\n",
       "    }\n",
       "\n",
       "    .dataframe tbody tr th {\n",
       "        vertical-align: top;\n",
       "    }\n",
       "\n",
       "    .dataframe thead th {\n",
       "        text-align: right;\n",
       "    }\n",
       "</style>\n",
       "<table border=\"1\" class=\"dataframe\">\n",
       "  <thead>\n",
       "    <tr style=\"text-align: right;\">\n",
       "      <th></th>\n",
       "      <th>Unnamed: 0</th>\n",
       "      <th>cluster</th>\n",
       "      <th>dist_metric</th>\n",
       "      <th>inside_avg</th>\n",
       "      <th>outside_avg</th>\n",
       "      <th>out/in ratio</th>\n",
       "      <th>cluster_size</th>\n",
       "    </tr>\n",
       "  </thead>\n",
       "  <tbody>\n",
       "    <tr>\n",
       "      <th>0</th>\n",
       "      <td>0</td>\n",
       "      <td>0</td>\n",
       "      <td>0.2</td>\n",
       "      <td>9.695774e+08</td>\n",
       "      <td>2.030331e+09</td>\n",
       "      <td>2.094037</td>\n",
       "      <td>68</td>\n",
       "    </tr>\n",
       "    <tr>\n",
       "      <th>1</th>\n",
       "      <td>1</td>\n",
       "      <td>1</td>\n",
       "      <td>0.2</td>\n",
       "      <td>7.913051e+08</td>\n",
       "      <td>1.774819e+09</td>\n",
       "      <td>2.242901</td>\n",
       "      <td>76</td>\n",
       "    </tr>\n",
       "    <tr>\n",
       "      <th>2</th>\n",
       "      <td>2</td>\n",
       "      <td>2</td>\n",
       "      <td>0.2</td>\n",
       "      <td>6.346458e+08</td>\n",
       "      <td>1.962297e+09</td>\n",
       "      <td>3.091955</td>\n",
       "      <td>115</td>\n",
       "    </tr>\n",
       "    <tr>\n",
       "      <th>3</th>\n",
       "      <td>3</td>\n",
       "      <td>3</td>\n",
       "      <td>0.2</td>\n",
       "      <td>1.086588e+09</td>\n",
       "      <td>1.816148e+09</td>\n",
       "      <td>1.671424</td>\n",
       "      <td>287</td>\n",
       "    </tr>\n",
       "    <tr>\n",
       "      <th>4</th>\n",
       "      <td>4</td>\n",
       "      <td>4</td>\n",
       "      <td>0.2</td>\n",
       "      <td>8.067590e+08</td>\n",
       "      <td>1.483999e+09</td>\n",
       "      <td>1.839458</td>\n",
       "      <td>534</td>\n",
       "    </tr>\n",
       "  </tbody>\n",
       "</table>\n",
       "</div>"
      ],
      "text/plain": [
       "   Unnamed: 0  cluster  dist_metric    inside_avg   outside_avg  out/in ratio  \\\n",
       "0           0        0          0.2  9.695774e+08  2.030331e+09      2.094037   \n",
       "1           1        1          0.2  7.913051e+08  1.774819e+09      2.242901   \n",
       "2           2        2          0.2  6.346458e+08  1.962297e+09      3.091955   \n",
       "3           3        3          0.2  1.086588e+09  1.816148e+09      1.671424   \n",
       "4           4        4          0.2  8.067590e+08  1.483999e+09      1.839458   \n",
       "\n",
       "   cluster_size  \n",
       "0            68  \n",
       "1            76  \n",
       "2           115  \n",
       "3           287  \n",
       "4           534  "
      ]
     },
     "execution_count": 33,
     "metadata": {},
     "output_type": "execute_result"
    }
   ],
   "source": [
    "cluster_dists_pca_df = pd.read_csv('/Users/dsmolyak/UMD/CMSC858D/project/dist_metric_cluster_pca.csv')\n",
    "cluster_dists_pca_df.head()"
   ]
  },
  {
   "cell_type": "code",
   "execution_count": 34,
   "id": "48efa6c1",
   "metadata": {},
   "outputs": [
    {
     "data": {
      "image/png": "[encoded data removed]",
      "text/plain": [
       "<Figure size 432x288 with 1 Axes>"
      ]
     },
     "metadata": {
      "needs_background": "light"
     },
     "output_type": "display_data"
    }
   ],
   "source": [
    "sns.barplot(data=cluster_dists_pca_df, x='dist_metric', y='out/in ratio')\n",
    "plt.xlabel('Distance Metric')\n",
    "plt.ylabel('Out/In Distance Ratio')\n",
    "plt.title('In Middle Dimension (post PCA, 50-dim)')\n",
    "plt.savefig('/Users/dsmolyak/UMD/CMSC858D/project/tasic_bar_pca.png',dpi=300)"
   ]
  },
  {
   "cell_type": "markdown",
   "id": "6e4caa26",
   "metadata": {},
   "source": [
    "# Harris et al"
   ]
  },
  {
   "cell_type": "code",
   "execution_count": 45,
   "id": "2f6a4998",
   "metadata": {},
   "outputs": [
    {
     "data": {
      "text/html": [
       "<div>\n",
       "<style scoped>\n",
       "    .dataframe tbody tr th:only-of-type {\n",
       "        vertical-align: middle;\n",
       "    }\n",
       "\n",
       "    .dataframe tbody tr th {\n",
       "        vertical-align: top;\n",
       "    }\n",
       "\n",
       "    .dataframe thead th {\n",
       "        text-align: right;\n",
       "    }\n",
       "</style>\n",
       "<table border=\"1\" class=\"dataframe\">\n",
       "  <thead>\n",
       "    <tr style=\"text-align: right;\">\n",
       "      <th></th>\n",
       "      <th>dataset</th>\n",
       "      <th>cluster</th>\n",
       "      <th>dist_metric</th>\n",
       "      <th>inside_avg</th>\n",
       "      <th>outside_avg</th>\n",
       "      <th>out/in ratio</th>\n",
       "      <th>cluster_size</th>\n",
       "    </tr>\n",
       "  </thead>\n",
       "  <tbody>\n",
       "    <tr>\n",
       "      <th>0</th>\n",
       "      <td>harris</td>\n",
       "      <td>0</td>\n",
       "      <td>0.0</td>\n",
       "      <td>3450.7</td>\n",
       "      <td>4014.6</td>\n",
       "      <td>1.163416</td>\n",
       "      <td>270</td>\n",
       "    </tr>\n",
       "    <tr>\n",
       "      <th>1</th>\n",
       "      <td>harris</td>\n",
       "      <td>1</td>\n",
       "      <td>0.0</td>\n",
       "      <td>2987.1</td>\n",
       "      <td>3146.9</td>\n",
       "      <td>1.053497</td>\n",
       "      <td>86</td>\n",
       "    </tr>\n",
       "    <tr>\n",
       "      <th>2</th>\n",
       "      <td>harris</td>\n",
       "      <td>2</td>\n",
       "      <td>0.0</td>\n",
       "      <td>3390.0</td>\n",
       "      <td>4016.3</td>\n",
       "      <td>1.184749</td>\n",
       "      <td>47</td>\n",
       "    </tr>\n",
       "    <tr>\n",
       "      <th>3</th>\n",
       "      <td>harris</td>\n",
       "      <td>3</td>\n",
       "      <td>0.0</td>\n",
       "      <td>3319.4</td>\n",
       "      <td>3622.0</td>\n",
       "      <td>1.091161</td>\n",
       "      <td>85</td>\n",
       "    </tr>\n",
       "    <tr>\n",
       "      <th>4</th>\n",
       "      <td>harris</td>\n",
       "      <td>4</td>\n",
       "      <td>0.0</td>\n",
       "      <td>2871.0</td>\n",
       "      <td>3273.5</td>\n",
       "      <td>1.140195</td>\n",
       "      <td>106</td>\n",
       "    </tr>\n",
       "  </tbody>\n",
       "</table>\n",
       "</div>"
      ],
      "text/plain": [
       "  dataset  cluster  dist_metric  inside_avg  outside_avg  out/in ratio  \\\n",
       "0  harris        0          0.0      3450.7       4014.6      1.163416   \n",
       "1  harris        1          0.0      2987.1       3146.9      1.053497   \n",
       "2  harris        2          0.0      3390.0       4016.3      1.184749   \n",
       "3  harris        3          0.0      3319.4       3622.0      1.091161   \n",
       "4  harris        4          0.0      2871.0       3273.5      1.140195   \n",
       "\n",
       "   cluster_size  \n",
       "0           270  \n",
       "1            86  \n",
       "2            47  \n",
       "3            85  \n",
       "4           106  "
      ]
     },
     "execution_count": 45,
     "metadata": {},
     "output_type": "execute_result"
    }
   ],
   "source": [
    "harris_cluster_dists_gene_df = pd.read_csv('/Users/dsmolyak/UMD/CMSC858D/project/harris_dist_metric_cluster_gene.csv',\n",
    "                                          index_col=0)\n",
    "tasic_cluster_dists_gene_df = pd.read_csv('/Users/dsmolyak/UMD/CMSC858D/project/tasic_dist_metric_cluster_gene.csv', \n",
    "                                          index_col=0)\n",
    "cluster_dists_df = pd.concat([harris_cluster_dists_gene_df, tasic_cluster_dists_gene_df])\n",
    "cluster_dists_df.head()"
   ]
  },
  {
   "cell_type": "code",
   "execution_count": 49,
   "id": "01c7780b",
   "metadata": {},
   "outputs": [
    {
     "data": {
      "image/png": "[encoded data removed]",
      "text/plain": [
       "<Figure size 432x288 with 1 Axes>"
      ]
     },
     "metadata": {
      "needs_background": "light"
     },
     "output_type": "display_data"
    }
   ],
   "source": [
    "sns.barplot(data=cluster_dists_df, x='dist_metric', y='out/in ratio', hue='dataset')\n",
    "plt.xlabel('Distance Metric')\n",
    "plt.ylabel('Inter/Intra Distance Ratio')\n",
    "plt.title('In Full Dimension (Gene Counts)')\n",
    "plt.tight_layout()\n",
    "plt.savefig('/Users/dsmolyak/UMD/CMSC858D/project/dist_ratio_bar_gene.png',dpi=300)"
   ]
  },
  {
   "cell_type": "code",
   "execution_count": 55,
   "id": "101ccbba",
   "metadata": {},
   "outputs": [
    {
     "data": {
      "text/html": [
       "<div>\n",
       "<style scoped>\n",
       "    .dataframe tbody tr th:only-of-type {\n",
       "        vertical-align: middle;\n",
       "    }\n",
       "\n",
       "    .dataframe tbody tr th {\n",
       "        vertical-align: top;\n",
       "    }\n",
       "\n",
       "    .dataframe thead th {\n",
       "        text-align: right;\n",
       "    }\n",
       "</style>\n",
       "<table border=\"1\" class=\"dataframe\">\n",
       "  <thead>\n",
       "    <tr style=\"text-align: right;\">\n",
       "      <th></th>\n",
       "      <th>dataset</th>\n",
       "      <th>cluster</th>\n",
       "      <th>dist_metric</th>\n",
       "      <th>inside_avg</th>\n",
       "      <th>outside_avg</th>\n",
       "      <th>out/in ratio</th>\n",
       "      <th>cluster_size</th>\n",
       "    </tr>\n",
       "  </thead>\n",
       "  <tbody>\n",
       "    <tr>\n",
       "      <th>49</th>\n",
       "      <td>harris</td>\n",
       "      <td>0</td>\n",
       "      <td>0.2</td>\n",
       "      <td>3.272427e+06</td>\n",
       "      <td>5.518861e+06</td>\n",
       "      <td>1.686473</td>\n",
       "      <td>270</td>\n",
       "    </tr>\n",
       "    <tr>\n",
       "      <th>50</th>\n",
       "      <td>harris</td>\n",
       "      <td>1</td>\n",
       "      <td>0.2</td>\n",
       "      <td>3.541499e+06</td>\n",
       "      <td>5.085826e+06</td>\n",
       "      <td>1.436066</td>\n",
       "      <td>86</td>\n",
       "    </tr>\n",
       "    <tr>\n",
       "      <th>51</th>\n",
       "      <td>harris</td>\n",
       "      <td>2</td>\n",
       "      <td>0.2</td>\n",
       "      <td>5.293943e+06</td>\n",
       "      <td>7.683361e+06</td>\n",
       "      <td>1.451349</td>\n",
       "      <td>47</td>\n",
       "    </tr>\n",
       "    <tr>\n",
       "      <th>52</th>\n",
       "      <td>harris</td>\n",
       "      <td>3</td>\n",
       "      <td>0.2</td>\n",
       "      <td>5.171103e+06</td>\n",
       "      <td>7.150794e+06</td>\n",
       "      <td>1.382837</td>\n",
       "      <td>85</td>\n",
       "    </tr>\n",
       "    <tr>\n",
       "      <th>53</th>\n",
       "      <td>harris</td>\n",
       "      <td>4</td>\n",
       "      <td>0.2</td>\n",
       "      <td>4.273259e+06</td>\n",
       "      <td>5.579645e+06</td>\n",
       "      <td>1.305712</td>\n",
       "      <td>106</td>\n",
       "    </tr>\n",
       "  </tbody>\n",
       "</table>\n",
       "</div>"
      ],
      "text/plain": [
       "   dataset  cluster  dist_metric    inside_avg   outside_avg  out/in ratio  \\\n",
       "49  harris        0          0.2  3.272427e+06  5.518861e+06      1.686473   \n",
       "50  harris        1          0.2  3.541499e+06  5.085826e+06      1.436066   \n",
       "51  harris        2          0.2  5.293943e+06  7.683361e+06      1.451349   \n",
       "52  harris        3          0.2  5.171103e+06  7.150794e+06      1.382837   \n",
       "53  harris        4          0.2  4.273259e+06  5.579645e+06      1.305712   \n",
       "\n",
       "    cluster_size  \n",
       "49           270  \n",
       "50            86  \n",
       "51            47  \n",
       "52            85  \n",
       "53           106  "
      ]
     },
     "execution_count": 55,
     "metadata": {},
     "output_type": "execute_result"
    }
   ],
   "source": [
    "harris_cluster_dists_pca_df = pd.read_csv('/Users/dsmolyak/UMD/CMSC858D/project/harris_dist_metric_cluster_pca.csv',\n",
    "                                          index_col=0)\n",
    "tasic_cluster_dists_pca_df = pd.read_csv('/Users/dsmolyak/UMD/CMSC858D/project/tasic_dist_metric_cluster_pca.csv', \n",
    "                                          index_col=0)\n",
    "cluster_dists_pca_df = pd.concat([harris_cluster_dists_pca_df, tasic_cluster_dists_pca_df])\n",
    "cluster_dists_pca_df = cluster_dists_pca_df[cluster_dists_pca_df['dist_metric'] != 0]\n",
    "cluster_dists_pca_df.head()"
   ]
  },
  {
   "cell_type": "code",
   "execution_count": 56,
   "id": "dff65e15",
   "metadata": {},
   "outputs": [
    {
     "data": {
      "image/png": "[encoded data removed]",
      "text/plain": [
       "<Figure size 432x288 with 1 Axes>"
      ]
     },
     "metadata": {
      "needs_background": "light"
     },
     "output_type": "display_data"
    }
   ],
   "source": [
    "sns.barplot(data=cluster_dists_pca_df, x='dist_metric', y='out/in ratio', hue='dataset')\n",
    "plt.xlabel('Distance Metric')\n",
    "plt.ylabel('Inter/Intra Distance Ratio')\n",
    "plt.title('In Middle Dimension (post PCA, 50-dim)')\n",
    "plt.tight_layout()\n",
    "plt.savefig('/Users/dsmolyak/UMD/CMSC858D/project/dist_ratio_bar_pca.png',dpi=300)"
   ]
  },
  {
   "cell_type": "code",
   "execution_count": 61,
   "id": "0cef67e8",
   "metadata": {},
   "outputs": [
    {
     "data": {
      "text/html": [
       "<div>\n",
       "<style scoped>\n",
       "    .dataframe tbody tr th:only-of-type {\n",
       "        vertical-align: middle;\n",
       "    }\n",
       "\n",
       "    .dataframe tbody tr th {\n",
       "        vertical-align: top;\n",
       "    }\n",
       "\n",
       "    .dataframe thead th {\n",
       "        text-align: right;\n",
       "    }\n",
       "</style>\n",
       "<table border=\"1\" class=\"dataframe\">\n",
       "  <thead>\n",
       "    <tr style=\"text-align: right;\">\n",
       "      <th></th>\n",
       "      <th>dataset</th>\n",
       "      <th>cluster</th>\n",
       "      <th>dist_metric</th>\n",
       "      <th>inside_avg</th>\n",
       "      <th>outside_avg</th>\n",
       "      <th>out/in ratio</th>\n",
       "      <th>cluster_size</th>\n",
       "    </tr>\n",
       "  </thead>\n",
       "  <tbody>\n",
       "    <tr>\n",
       "      <th>49</th>\n",
       "      <td>harris</td>\n",
       "      <td>0</td>\n",
       "      <td>0.2</td>\n",
       "      <td>101.108599</td>\n",
       "      <td>687.163721</td>\n",
       "      <td>6.796294</td>\n",
       "      <td>270</td>\n",
       "    </tr>\n",
       "    <tr>\n",
       "      <th>50</th>\n",
       "      <td>harris</td>\n",
       "      <td>1</td>\n",
       "      <td>0.2</td>\n",
       "      <td>86.218787</td>\n",
       "      <td>683.688722</td>\n",
       "      <td>7.929695</td>\n",
       "      <td>86</td>\n",
       "    </tr>\n",
       "    <tr>\n",
       "      <th>51</th>\n",
       "      <td>harris</td>\n",
       "      <td>2</td>\n",
       "      <td>0.2</td>\n",
       "      <td>73.123717</td>\n",
       "      <td>772.663220</td>\n",
       "      <td>10.566520</td>\n",
       "      <td>47</td>\n",
       "    </tr>\n",
       "    <tr>\n",
       "      <th>52</th>\n",
       "      <td>harris</td>\n",
       "      <td>3</td>\n",
       "      <td>0.2</td>\n",
       "      <td>100.219345</td>\n",
       "      <td>779.790286</td>\n",
       "      <td>7.780836</td>\n",
       "      <td>85</td>\n",
       "    </tr>\n",
       "    <tr>\n",
       "      <th>53</th>\n",
       "      <td>harris</td>\n",
       "      <td>4</td>\n",
       "      <td>0.2</td>\n",
       "      <td>88.865558</td>\n",
       "      <td>713.899868</td>\n",
       "      <td>8.033482</td>\n",
       "      <td>106</td>\n",
       "    </tr>\n",
       "  </tbody>\n",
       "</table>\n",
       "</div>"
      ],
      "text/plain": [
       "   dataset  cluster  dist_metric  inside_avg  outside_avg  out/in ratio  \\\n",
       "49  harris        0          0.2  101.108599   687.163721      6.796294   \n",
       "50  harris        1          0.2   86.218787   683.688722      7.929695   \n",
       "51  harris        2          0.2   73.123717   772.663220     10.566520   \n",
       "52  harris        3          0.2  100.219345   779.790286      7.780836   \n",
       "53  harris        4          0.2   88.865558   713.899868      8.033482   \n",
       "\n",
       "    cluster_size  \n",
       "49           270  \n",
       "50            86  \n",
       "51            47  \n",
       "52            85  \n",
       "53           106  "
      ]
     },
     "execution_count": 61,
     "metadata": {},
     "output_type": "execute_result"
    }
   ],
   "source": [
    "harris_cluster_dists_tsne_df = pd.read_csv('/Users/dsmolyak/UMD/CMSC858D/project/harris_dist_metric_cluster_tsne.csv',\n",
    "                                          index_col=0)\n",
    "tasic_cluster_dists_tsne_df = pd.read_csv('/Users/dsmolyak/UMD/CMSC858D/project/tasic_dist_metric_cluster_tsne.csv', \n",
    "                                          index_col=0)\n",
    "cluster_dists_tsne_df = pd.concat([harris_cluster_dists_tsne_df, tasic_cluster_dists_tsne_df])\n",
    "cluster_dists_tsne_df = cluster_dists_tsne_df[cluster_dists_tsne_df['dist_metric'] != 0]\n",
    "cluster_dists_tsne_df.head()"
   ]
  },
  {
   "cell_type": "code",
   "execution_count": 62,
   "id": "d7f0d4c7",
   "metadata": {},
   "outputs": [
    {
     "data": {
      "image/png": "[encoded data removed]",
      "text/plain": [
       "<Figure size 432x288 with 1 Axes>"
      ]
     },
     "metadata": {
      "needs_background": "light"
     },
     "output_type": "display_data"
    }
   ],
   "source": [
    "sns.barplot(data=cluster_dists_tsne_df, x='dist_metric', y='out/in ratio', hue='dataset')\n",
    "plt.xlabel('Distance Metric')\n",
    "plt.ylabel('Inter/Intra Distance Ratio')\n",
    "plt.title('In Low Dimension (post t-sne, 2-dim)')\n",
    "plt.tight_layout()\n",
    "plt.savefig('/Users/dsmolyak/UMD/CMSC858D/project/dist_ratio_bar_tsne.png',dpi=300)"
   ]
  },
  {
   "cell_type": "code",
   "execution_count": null,
   "id": "ccc2a37b",
   "metadata": {},
   "outputs": [],
   "source": []
  }
 ],
 "metadata": {
  "kernelspec": {
   "display_name": "Python 3 (ipykernel)",
   "language": "python",
   "name": "python3"
  },
  "language_info": {
   "codemirror_mode": {
    "name": "ipython",
    "version": 3
   },
   "file_extension": ".py",
   "mimetype": "text/x-python",
   "name": "python",
   "nbconvert_exporter": "python",
   "pygments_lexer": "ipython3",
   "version": "3.9.6"
  }
 },
 "nbformat": 4,
 "nbformat_minor": 5
}
